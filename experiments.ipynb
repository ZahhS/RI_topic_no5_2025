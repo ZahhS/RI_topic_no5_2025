{
 "cells": [
  {
   "cell_type": "markdown",
   "metadata": {},
   "source": [
    "# Models"
   ]
  },
  {
   "cell_type": "code",
   "execution_count": 1,
   "metadata": {},
   "outputs": [],
   "source": [
    "from gensim.models import Word2Vec\n",
    "from nltk import download, word_tokenize\n",
    "from nltk.corpus import stopwords\n",
    "from nltk.stem import WordNetLemmatizer\n",
    "from sklearn.feature_extraction.text import TfidfVectorizer\n",
    "\n",
    "import dill as pickle\n",
    "import gensim.downloader as api\n",
    "import joblib\n",
    "import numpy as np\n",
    "import re\n",
    "import sys"
   ]
  },
  {
   "cell_type": "code",
   "execution_count": 2,
   "metadata": {},
   "outputs": [],
   "source": [
    "sys.path.append('..')\n",
    "\n",
    "from src.baselines import RIH_Cosine, EmbeddingBaseline\n",
    "from src.knowledgebase import KnowledgeBase"
   ]
  },
  {
   "cell_type": "code",
   "execution_count": 3,
   "metadata": {},
   "outputs": [],
   "source": [
    "# Load a derived dataset from the \"TREC CAR 2017\" dataset\n",
    "dataset = {\n",
    "    \"queries\": pickle.load(open(\"../data/queries.pkl\", \"rb\")),\n",
    "    \"documents\": pickle.load(open(\"../data/documents.pkl\", \"rb\")),\n",
    "    \"relevances\": pickle.load(open(\"../data/relevances.pkl\", \"rb\"))\n",
    "}"
   ]
  },
  {
   "cell_type": "markdown",
   "metadata": {},
   "source": [
    "## TFIDF Vectorizer"
   ]
  },
  {
   "cell_type": "code",
   "execution_count": 4,
   "metadata": {},
   "outputs": [
    {
     "name": "stderr",
     "output_type": "stream",
     "text": [
      "[nltk_data] Downloading package punkt to\n",
      "[nltk_data]     C:\\Users\\Ethan\\AppData\\Roaming\\nltk_data...\n",
      "[nltk_data]   Package punkt is already up-to-date!\n",
      "[nltk_data] Downloading package stopwords to\n",
      "[nltk_data]     C:\\Users\\Ethan\\AppData\\Roaming\\nltk_data...\n",
      "[nltk_data]   Package stopwords is already up-to-date!\n",
      "[nltk_data] Downloading package wordnet to\n",
      "[nltk_data]     C:\\Users\\Ethan\\AppData\\Roaming\\nltk_data...\n",
      "[nltk_data]   Package wordnet is already up-to-date!\n"
     ]
    },
    {
     "data": {
      "text/plain": [
       "True"
      ]
     },
     "execution_count": 4,
     "metadata": {},
     "output_type": "execute_result"
    }
   ],
   "source": [
    "# Ressources Installation for NLTK\n",
    "download(\"punkt\")\n",
    "download(\"stopwords\")\n",
    "download(\"wordnet\")"
   ]
  },
  {
   "cell_type": "code",
   "execution_count": 5,
   "metadata": {},
   "outputs": [],
   "source": [
    "english_stopwords = stopwords.words(\"english\")\n",
    "\n",
    "def preprocess(text):\n",
    "    text = re.sub(r\"[^a-zA-Z]\", \" \", text.lower())\n",
    "    words = word_tokenize(text)\n",
    "    words_lemmed = [WordNetLemmatizer().lemmatize(w) for w in words if w not in english_stopwords]\n",
    "    return words_lemmed"
   ]
  },
  {
   "cell_type": "code",
   "execution_count": 6,
   "metadata": {},
   "outputs": [
    {
     "name": "stderr",
     "output_type": "stream",
     "text": [
      "C:\\Users\\Ethan\\AppData\\Local\\Packages\\PythonSoftwareFoundation.Python.3.11_qbz5n2kfra8p0\\LocalCache\\local-packages\\Python311\\site-packages\\sklearn\\feature_extraction\\text.py:525: UserWarning: The parameter 'token_pattern' will not be used since 'tokenizer' is not None'\n",
      "  warnings.warn(\n"
     ]
    }
   ],
   "source": [
    "# Create the TF-IDF Vectorizer\n",
    "vectorizer = TfidfVectorizer(tokenizer=preprocess, stop_words=english_stopwords)\n",
    "\n",
    "# Train the TFIDF-Vectorizer on the corpus\n",
    "def generate_docs_texts():\n",
    "    for text in dataset[\"documents\"].values():\n",
    "        yield text\n",
    "\n",
    "documents_vectors = vectorizer.fit_transform(generate_docs_texts())\n",
    "documents_vectors = documents_vectors.toarray()"
   ]
  },
  {
   "cell_type": "markdown",
   "metadata": {},
   "source": [
    "## Skipgram"
   ]
  },
  {
   "cell_type": "code",
   "execution_count": 4,
   "metadata": {},
   "outputs": [],
   "source": [
    "pretrained_model = api.load(\"fasttext-wiki-news-subwords-300\")"
   ]
  },
  {
   "cell_type": "code",
   "execution_count": 13,
   "metadata": {},
   "outputs": [],
   "source": [
    "knowledge_base = KnowledgeBase()\n",
    "knowledge_base.load(\"../models/knowledge_base.pkl\")\n",
    "entities = list(knowledge_base.kb)"
   ]
  },
  {
   "cell_type": "code",
   "execution_count": 14,
   "metadata": {},
   "outputs": [],
   "source": [
    "corpus = list(dataset[\"documents\"].values())\n",
    "\n",
    "model = Word2Vec(vector_size=300, window=10, sample=1e-3, min_count=0, sg=1)\n",
    "model.build_vocab(corpus + entities)\n",
    "total_examples = model.corpus_count\n",
    "model.build_vocab([list(pretrained_model.key_to_index.keys())], update=True)\n",
    "\n",
    "model.train(corpus, total_examples=total_examples, epochs=2)\n",
    "model.save(\"../models/skipgram-entities.model\")"
   ]
  },
  {
   "cell_type": "markdown",
   "metadata": {},
   "source": [
    "## Baselines"
   ]
  },
  {
   "cell_type": "markdown",
   "metadata": {},
   "source": [
    "### Relevance Baseline"
   ]
  },
  {
   "cell_type": "code",
   "execution_count": 7,
   "metadata": {},
   "outputs": [],
   "source": [
    "rih_cosine = RIH_Cosine(dataset, vectorizer)\n",
    "results_cosine = rih_cosine.eval_model()"
   ]
  },
  {
   "cell_type": "code",
   "execution_count": 8,
   "metadata": {},
   "outputs": [
    {
     "name": "stdout",
     "output_type": "stream",
     "text": [
      "RIH Cosine Results:  {'NDCG': 0.3536916343324855, 'MAP': 0.16825002655410093, 'RPrec': 0.8055093265456168}\n"
     ]
    }
   ],
   "source": [
    "print(\"RIH Cosine Results: \", results_cosine)"
   ]
  },
  {
   "cell_type": "markdown",
   "metadata": {},
   "source": [
    "### Relevance Expansion"
   ]
  },
  {
   "cell_type": "code",
   "execution_count": 9,
   "metadata": {},
   "outputs": [],
   "source": [
    "rih_cosine = RIH_Cosine(dataset, vectorizer)\n",
    "results_cosine_expanded = rih_cosine.eval_model(expansion=[1.0, 0.75, 0.15])"
   ]
  },
  {
   "cell_type": "code",
   "execution_count": 10,
   "metadata": {},
   "outputs": [
    {
     "name": "stdout",
     "output_type": "stream",
     "text": [
      "RIH Cosine Expanded Results:  {'NDCG': 0.346435022362756, 'MAP': 0.16316602729310062, 'RPrec': 0.8004908060875802}\n"
     ]
    }
   ],
   "source": [
    "print(\"RIH Cosine Expanded Results: \", results_cosine_expanded)"
   ]
  },
  {
   "cell_type": "code",
   "execution_count": 11,
   "metadata": {},
   "outputs": [],
   "source": [
    "rih_cosine = RIH_Cosine(dataset, vectorizer)\n",
    "results_cosine_expanded2 = rih_cosine.eval_model(expansion=[1.0, 0.9, 0.1])"
   ]
  },
  {
   "cell_type": "code",
   "execution_count": 12,
   "metadata": {},
   "outputs": [
    {
     "name": "stdout",
     "output_type": "stream",
     "text": [
      "RIH Cosine Expanded2 Results:  {'NDCG': 0.340159366820859, 'MAP': 0.1581191949314524, 'RPrec': 0.799505143005143}\n"
     ]
    }
   ],
   "source": [
    "print(\"RIH Cosine Expanded2 Results: \", results_cosine_expanded2)"
   ]
  },
  {
   "cell_type": "code",
   "execution_count": 13,
   "metadata": {},
   "outputs": [],
   "source": [
    "rih_cosine = RIH_Cosine(dataset, vectorizer)\n",
    "results_cosine_expanded3 = rih_cosine.eval_model(expansion=[0.9, 0.6, 0.3])"
   ]
  },
  {
   "cell_type": "code",
   "execution_count": 14,
   "metadata": {},
   "outputs": [
    {
     "name": "stdout",
     "output_type": "stream",
     "text": [
      "RIH Cosine Expanded3 Results:  {'NDCG': 0.3503750202677431, 'MAP': 0.16611019112982603, 'RPrec': 0.8022351310577117}\n"
     ]
    }
   ],
   "source": [
    "print(\"RIH Cosine Expanded3 Results: \", results_cosine_expanded3)"
   ]
  },
  {
   "cell_type": "markdown",
   "metadata": {},
   "source": [
    "### Embedding Baseline"
   ]
  },
  {
   "cell_type": "code",
   "execution_count": 15,
   "metadata": {},
   "outputs": [],
   "source": [
    "model = Word2Vec.load(\"../models/skipgram-entities.model\")"
   ]
  },
  {
   "cell_type": "code",
   "execution_count": 40,
   "metadata": {},
   "outputs": [],
   "source": [
    "def embedding_expansion(model, headings):\n",
    "    # Get the embeddings for each node of the tree (headings)\n",
    "    tree_embeddings = []\n",
    "    for heading in headings:\n",
    "        heading_words = heading.split()\n",
    "        try:\n",
    "            most_similar = [word for word, _ in model.wv.most_similar(positive=heading_words, topn=3)]\n",
    "        except KeyError:\n",
    "            most_similar = []\n",
    "        enhanced_heading = set(heading_words + most_similar)\n",
    "\n",
    "        # Get the embeddings for the enhanced heading\n",
    "        heading_embeddings = []\n",
    "        for word in enhanced_heading:\n",
    "            try:\n",
    "                heading_embeddings.append(model.wv[word])\n",
    "            except KeyError:\n",
    "                pass\n",
    "        if len(heading_embeddings) > 0:\n",
    "            tree_embeddings.append(np.mean(heading_embeddings, axis=0))\n",
    "    tree_embeddings = np.array(tree_embeddings)\n",
    "\n",
    "    # Expand the global tree\n",
    "    embedded_tree = np.mean(tree_embeddings, axis=0)\n",
    "    cosine_similarities = model.wv.cosine_similarities(embedded_tree, model.wv.vectors)\n",
    "    most_similar = np.argsort(cosine_similarities)[-3:]\n",
    "    expanded_tree_embedding = np.mean(embedded_tree + model.wv.vectors[most_similar], axis=0)\n",
    "\n",
    "    return expanded_tree_embedding"
   ]
  },
  {
   "cell_type": "code",
   "execution_count": 28,
   "metadata": {},
   "outputs": [],
   "source": [
    "import src.metrics as metrics\n",
    "from src.expansion import embedding_expansion\n",
    "\n",
    "class EmbeddingBaseline(object):\n",
    "    def __init__(self, dataset, w2v_model):\n",
    "        self.dataset = dataset\n",
    "        self.documents_ids = np.array(list(self.dataset[\"documents\"].keys()))\n",
    "        self.w2v_model = w2v_model\n",
    "        self.embedded_documents = np.array([self.vectorize(doc) for doc in self.dataset[\"documents\"].values()])\n",
    "        \n",
    "    def vectorize(self, text):\n",
    "        embedding = np.zeros(self.w2v_model.vector_size)\n",
    "        size = 0\n",
    "        for word in text.split():\n",
    "            try:\n",
    "                embedding += self.w2v_model.wv[word]\n",
    "                size += 1\n",
    "            except KeyError:\n",
    "                pass\n",
    "        if size == 0:\n",
    "            return embedding\n",
    "        return embedding / size\n",
    "    \n",
    "    def get_query_vector(self, query, expansion=False):\n",
    "        if expansion:\n",
    "            return embedding_expansion(self.w2v_model, [query[1][1], *query[1][2]])\n",
    "        else:\n",
    "            return self.vectorize(query[1][0])\n",
    "    \n",
    "    def cosine_similarities(self, query):\n",
    "        dot_product = self.embedded_documents @ query.reshape(-1, 1)\n",
    "        denominator = (np.maximum(np.linalg.norm(query), 1e-12) * np.maximum(np.linalg.norm(self.embedded_documents), 1e-12))\n",
    "        return dot_product / denominator\n",
    "    \n",
    "    def get_top_k(self, query, k=1000):\n",
    "        scores = self.cosine_similarities(query).reshape(-1)\n",
    "        top_k_indexes = np.argsort(scores)[::-1][:k]\n",
    "        return self.documents_ids[top_k_indexes], scores[top_k_indexes]\n",
    "\n",
    "    def eval_query(self, query, k=1000, expansion=False):\n",
    "        scores = {\n",
    "        \"NDCG\": metrics.NDCG,\n",
    "        \"MAP\": metrics.AP,\n",
    "        \"RPrec\": metrics.RPrec\n",
    "        }\n",
    "        results = {}\n",
    "        q = self.get_query_vector(query, expansion)\n",
    "        docs, _ = self.get_top_k(q, k)\n",
    "        for metric_name, metric_callback in scores.items():\n",
    "            results[metric_name] = metric_callback(query[0], docs, self.dataset[\"relevances\"])\n",
    "        return results\n",
    "    \n",
    "    def eval_model(self, k=1000, expansion=False):\n",
    "        results = {\n",
    "            \"NDCG\": [],\n",
    "            \"MAP\": [],\n",
    "            \"RPrec\": []\n",
    "        }\n",
    "        for query in self.dataset[\"queries\"].items():\n",
    "            query_results = self.eval_query(query, k, expansion)\n",
    "            for metric_name, metric_value in query_results.items():\n",
    "                results[metric_name].append(metric_value)\n",
    "        results = {metric_name: np.mean(metric_values) for metric_name, metric_values in results.items()}\n",
    "        return results"
   ]
  },
  {
   "cell_type": "code",
   "execution_count": 29,
   "metadata": {},
   "outputs": [],
   "source": [
    "embedding_baseline = EmbeddingBaseline(dataset, model)\n",
    "results_embedding = embedding_baseline.eval_model()"
   ]
  },
  {
   "cell_type": "code",
   "execution_count": 19,
   "metadata": {},
   "outputs": [
    {
     "name": "stdout",
     "output_type": "stream",
     "text": [
      "Embedding Baseline Results:  {'NDCG': 0.0668529586728596, 'MAP': 0.00616720644818336, 'RPrec': 0.25395354705032125}\n"
     ]
    }
   ],
   "source": [
    "print(\"Embedding Baseline Results: \", results_embedding)"
   ]
  },
  {
   "cell_type": "markdown",
   "metadata": {},
   "source": [
    "### Embedding Expansion"
   ]
  },
  {
   "cell_type": "code",
   "execution_count": 41,
   "metadata": {},
   "outputs": [],
   "source": [
    "results_embedding_expanded = embedding_baseline.eval_model(expansion=True)"
   ]
  },
  {
   "cell_type": "code",
   "execution_count": 42,
   "metadata": {},
   "outputs": [
    {
     "name": "stdout",
     "output_type": "stream",
     "text": [
      "Embedding Baseline Expanded Results:  {'NDCG': 0.06072493786583757, 'MAP': 0.003761579768421089, 'RPrec': 0.24418412098654035}\n"
     ]
    }
   ],
   "source": [
    "print(\"Embedding Baseline Expanded Results: \", results_embedding_expanded)"
   ]
  }
 ],
 "metadata": {
  "kernelspec": {
   "display_name": "Python 3",
   "language": "python",
   "name": "python3"
  },
  "language_info": {
   "codemirror_mode": {
    "name": "ipython",
    "version": 3
   },
   "file_extension": ".py",
   "mimetype": "text/x-python",
   "name": "python",
   "nbconvert_exporter": "python",
   "pygments_lexer": "ipython3",
   "version": "3.11.9"
  }
 },
 "nbformat": 4,
 "nbformat_minor": 2
}
