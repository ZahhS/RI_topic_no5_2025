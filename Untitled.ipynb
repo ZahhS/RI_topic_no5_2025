{
 "cells": [
  {
   "cell_type": "code",
   "execution_count": 4,
   "id": "0e2c9aaf-0dce-4da8-843b-5a75e72e273c",
   "metadata": {},
   "outputs": [
    {
     "name": "stdout",
     "output_type": "stream",
     "text": [
      "Defaulting to user installation because normal site-packages is not writeable\n",
      "Collecting trec-car-tools\n",
      "  Downloading trec_car_tools-2.6-py3-none-any.whl (8.4 kB)\n",
      "Collecting cbor>=1.0.0\n",
      "  Downloading cbor-1.0.0.tar.gz (20 kB)\n",
      "  Preparing metadata (setup.py) ... \u001b[?25ldone\n",
      "\u001b[?25hRequirement already satisfied: numpy>=1.11.2 in /users/Etu0/21410720/.local/lib/python3.11/site-packages (from trec-car-tools) (1.26.4)\n",
      "Building wheels for collected packages: cbor\n",
      "  Building wheel for cbor (setup.py) ... \u001b[?25ldone\n",
      "\u001b[?25h  Created wheel for cbor: filename=cbor-1.0.0-cp311-cp311-linux_x86_64.whl size=53539 sha256=876a2f440ad51c69b23f76f782b6b7b55bee8dbf968f568193cc0916fef84321\n",
      "  Stored in directory: /users/nfs/Etu0/21410720/.cache/pip/wheels/21/6b/45/0c34253b1af07d1d9dc524f6d44d74a6b191c43152e6aaf641\n",
      "Successfully built cbor\n",
      "Installing collected packages: cbor, trec-car-tools\n",
      "Successfully installed cbor-1.0.0 trec-car-tools-2.6\n",
      "Note: you may need to restart the kernel to use updated packages.\n"
     ]
    }
   ],
   "source": [
    "pip install trec-car-tools"
   ]
  },
  {
   "cell_type": "code",
   "execution_count": 2,
   "id": "f9da1588-5308-4b21-862f-dc1dd817f962",
   "metadata": {},
   "outputs": [
    {
     "ename": "ModuleNotFoundError",
     "evalue": "No module named 'trec_car'",
     "output_type": "error",
     "traceback": [
      "\u001b[0;31m---------------------------------------------------------------------------\u001b[0m",
      "\u001b[0;31mModuleNotFoundError\u001b[0m                       Traceback (most recent call last)",
      "Cell \u001b[0;32mIn[2], line 1\u001b[0m\n\u001b[0;32m----> 1\u001b[0m \u001b[38;5;28;01mimport\u001b[39;00m \u001b[38;5;21;01mtrec_car\u001b[39;00m\u001b[38;5;21;01m.\u001b[39;00m\u001b[38;5;21;01mread_data\u001b[39;00m \u001b[38;5;28;01mas\u001b[39;00m \u001b[38;5;21;01mtrec_car\u001b[39;00m\n\u001b[1;32m      2\u001b[0m \u001b[38;5;28;01mwith\u001b[39;00m \u001b[38;5;28mopen\u001b[39m(\u001b[38;5;124m\"\u001b[39m\u001b[38;5;124mbenchmarkY2.cbor-outlines.cbor\u001b[39m\u001b[38;5;124m\"\u001b[39m, \u001b[38;5;124m'\u001b[39m\u001b[38;5;124mrb\u001b[39m\u001b[38;5;124m'\u001b[39m) \u001b[38;5;28;01mas\u001b[39;00m f:\n\u001b[1;32m      3\u001b[0m     \u001b[38;5;28;01mfor\u001b[39;00m page \u001b[38;5;129;01min\u001b[39;00m trec_car\u001b[38;5;241m.\u001b[39miter_outlines(f):\n",
      "\u001b[0;31mModuleNotFoundError\u001b[0m: No module named 'trec_car'"
     ]
    }
   ],
   "source": [
    "import trec_car.read_data as trec_car\n",
    "\n",
    "file_path = \"benchmarkY2.cbor-outlines.cbor\"\n",
    "\n",
    "with open(file_path, 'rb') as f:\n",
    "    for page in trec_car.iter_outlines(f):\n",
    "        print(\"Page:\", page.page_name)\n",
    "        for sec in page.flat_headings_list():\n",
    "            heading_text = \" / \".join([h.heading for h in sec.section_path])\n",
    "            print(\"   ↳ Subtopic:\", heading_text)\n"
   ]
  }
 ],
 "metadata": {
  "kernelspec": {
   "display_name": "Python 3 (ipykernel)",
   "language": "python",
   "name": "python3"
  },
  "language_info": {
   "codemirror_mode": {
    "name": "ipython",
    "version": 3
   },
   "file_extension": ".py",
   "mimetype": "text/x-python",
   "name": "python",
   "nbconvert_exporter": "python",
   "pygments_lexer": "ipython3",
   "version": "3.11.2"
  }
 },
 "nbformat": 4,
 "nbformat_minor": 5
}
