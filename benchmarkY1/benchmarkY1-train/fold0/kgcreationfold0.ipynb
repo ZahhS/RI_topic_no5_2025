{
 "cells": [
  {
   "cell_type": "code",
   "execution_count": 3,
   "id": "59fd199d-d0c8-44cd-b4d0-eb2cd4c548c8",
   "metadata": {},
   "outputs": [
    {
     "name": "stdout",
     "output_type": "stream",
     "text": [
      "✅ Saved 24 entities to ../models/knowledge_base.pkl\n"
     ]
    }
   ],
   "source": [
    "import pickle\n",
    "import os\n",
    "\n",
    "# Charger vos requêtes\n",
    "with open(\"queries.pkl\", \"rb\") as f:\n",
    "    queries = pickle.load(f)\n",
    "\n",
    "# Extraire les entités (root topics)\n",
    "knowledge_base = set()\n",
    "for _, (_, root_topic, _) in queries.items():\n",
    "    # Enlever le préfixe 'enwiki:' si présent\n",
    "    entity = root_topic.replace(\"enwiki:\", \"\")\n",
    "    knowledge_base.add(entity)\n",
    "\n",
    "# Créer le dossier de sauvegarde s’il n’existe pas\n",
    "os.makedirs(\"../models\", exist_ok=True)\n",
    "\n",
    "# Sauvegarder\n",
    "with open(\"../models/knowledge_basefold0.pkl\", \"wb\") as f:\n",
    "    pickle.dump(knowledge_base, f)\n",
    "\n",
    "print(f\"✅ Saved {len(knowledge_base)} entities to ../models/knowledge_base.pkl\")\n"
   ]
  }
 ],
 "metadata": {
  "kernelspec": {
   "display_name": "Python 3 (ipykernel)",
   "language": "python",
   "name": "python3"
  },
  "language_info": {
   "codemirror_mode": {
    "name": "ipython",
    "version": 3
   },
   "file_extension": ".py",
   "mimetype": "text/x-python",
   "name": "python",
   "nbconvert_exporter": "python",
   "pygments_lexer": "ipython3",
   "version": "3.11.2"
  }
 },
 "nbformat": 4,
 "nbformat_minor": 5
}
