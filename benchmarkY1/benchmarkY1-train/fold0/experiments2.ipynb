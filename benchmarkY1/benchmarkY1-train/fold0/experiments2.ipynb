{
 "cells": [
  {
   "cell_type": "code",
   "execution_count": 37,
   "id": "f6a2066a-04fb-46e5-aad5-85a50c03f606",
   "metadata": {},
   "outputs": [],
   "source": [
    "from gensim.models import Word2Vec\n",
    "from nltk import download, word_tokenize\n",
    "from nltk.corpus import stopwords\n",
    "from nltk.stem import WordNetLemmatizer\n",
    "from sklearn.feature_extraction.text import TfidfVectorizer\n",
    "from nltk.stem import SnowballStemmer\n",
    "\n",
    "\n",
    "import dill as pickle\n",
    "import gensim.downloader as api\n",
    "import joblib\n",
    "import numpy as np\n",
    "import re\n",
    "import sys"
   ]
  },
  {
   "cell_type": "code",
   "execution_count": 55,
   "id": "33bdf0d4-9383-441d-bad9-647990cddcd4",
   "metadata": {},
   "outputs": [],
   "source": [
    "sys.path.append('..')\n",
    "\n",
    "from baselines import EmbeddingBaseline\n",
    "from knowledgebase import KnowledgeBase"
   ]
  },
  {
   "cell_type": "code",
   "execution_count": 41,
   "id": "06352c96-13c8-42a2-99e0-b83f17edc5e5",
   "metadata": {},
   "outputs": [],
   "source": [
    "# Load a derived dataset from the \"TREC CAR 2017\" dataset\n",
    "dataset = {\n",
    "    \"queries\": pickle.load(open(\"queries.pkl\", \"rb\")),\n",
    "    \"documents\": pickle.load(open(\"documents.pkl\", \"rb\")),\n",
    "    \"relevances\": pickle.load(open(\"relevances.pkl\", \"rb\"))\n",
    "}"
   ]
  },
  {
   "cell_type": "code",
   "execution_count": 42,
   "id": "96f7e154-f344-4ae3-a017-a3ba42b422eb",
   "metadata": {},
   "outputs": [],
   "source": [
    "galago_stopwords_file = './galago_418_inquery_stopwords.txt'\n",
    "\n",
    "# Load Galago stopwords into a Python list\n",
    "with open(galago_stopwords_file, 'r') as f:\n",
    "    galago_stopwords = [line.strip() for line in f if line.strip()]"
   ]
  },
  {
   "cell_type": "code",
   "execution_count": 43,
   "id": "34954fe9-07c5-4c32-a2ff-48c323b4b34b",
   "metadata": {},
   "outputs": [
    {
     "name": "stderr",
     "output_type": "stream",
     "text": [
      "[nltk_data] Downloading package punkt to\n",
      "[nltk_data]     /users/Etu0/21410720/nltk_data...\n",
      "[nltk_data]   Package punkt is already up-to-date!\n",
      "[nltk_data] Downloading package stopwords to\n",
      "[nltk_data]     /users/Etu0/21410720/nltk_data...\n",
      "[nltk_data]   Package stopwords is already up-to-date!\n",
      "[nltk_data] Downloading package wordnet to\n",
      "[nltk_data]     /users/Etu0/21410720/nltk_data...\n",
      "[nltk_data]   Package wordnet is already up-to-date!\n"
     ]
    },
    {
     "data": {
      "text/plain": [
       "True"
      ]
     },
     "execution_count": 43,
     "metadata": {},
     "output_type": "execute_result"
    }
   ],
   "source": [
    "# Ressources Installation for NLTK\n",
    "download(\"punkt\")\n",
    "download(\"stopwords\")\n",
    "download(\"wordnet\")"
   ]
  },
  {
   "cell_type": "code",
   "execution_count": 44,
   "id": "bf789b3c-ff98-4f5f-86a3-0e00c7dbe341",
   "metadata": {},
   "outputs": [],
   "source": [
    "#Le nouveau PreProcess \n",
    "english_stopwords= galago_stopwords\n",
    "stemmer = SnowballStemmer(\"english\")\n",
    "\n",
    "def preprocess(text):\n",
    "    text = re.sub(r\"[^a-zA-Z]\", \" \", text.lower())\n",
    "    words = word_tokenize(text)\n",
    "    words_stemmed = [stemmer.stem(w) for w in words if w not in english_stopwords]\n",
    "    return words_stemmed"
   ]
  },
  {
   "cell_type": "code",
   "execution_count": 45,
   "id": "865ccf66-26b3-4fac-a581-75b82fbd1c6a",
   "metadata": {},
   "outputs": [
    {
     "name": "stderr",
     "output_type": "stream",
     "text": [
      "/usr/local/lib/python3.11/dist-packages/sklearn/feature_extraction/text.py:525: UserWarning: The parameter 'token_pattern' will not be used since 'tokenizer' is not None'\n",
      "  warnings.warn(\n",
      "/usr/local/lib/python3.11/dist-packages/sklearn/feature_extraction/text.py:408: UserWarning: Your stop_words may be inconsistent with your preprocessing. Tokenizing the stop words generated tokens ['doesn', 't'] not in stop_words.\n",
      "  warnings.warn(\n"
     ]
    }
   ],
   "source": [
    "# Create the TF-IDF Vectorizer\n",
    "vectorizer = TfidfVectorizer(tokenizer=preprocess, stop_words=english_stopwords)\n",
    "\n",
    "# Train the TFIDF-Vectorizer on the corpus\n",
    "def generate_docs_texts():\n",
    "    for text in dataset[\"documents\"].values():\n",
    "        yield text\n",
    "\n",
    "documents_vectors = vectorizer.fit_transform(generate_docs_texts())\n",
    "documents_vectors = documents_vectors.toarray()"
   ]
  },
  {
   "cell_type": "code",
   "execution_count": 46,
   "id": "b61d7594-87c3-42e2-8fa6-0778ae70bb35",
   "metadata": {},
   "outputs": [
    {
     "name": "stdout",
     "output_type": "stream",
     "text": [
      "47 requêtes n'ont aucun document pertinent.\n",
      "477\n"
     ]
    }
   ],
   "source": [
    "qrels = dataset[\"relevances\"]\n",
    "queries = dataset[\"queries\"]\n",
    "\n",
    "zero_relevance_queries = [\n",
    "    qid for qid in queries\n",
    "    if not any(qid == rel_qid for (rel_qid, _) in qrels)\n",
    "]\n",
    "\n",
    "print(f\"{len(zero_relevance_queries)} requêtes n'ont aucun document pertinent.\")\n",
    "print(len(queries))"
   ]
  },
  {
   "cell_type": "code",
   "execution_count": 47,
   "id": "b0de872e-4a11-41c3-ad7d-5ebb9d37529e",
   "metadata": {},
   "outputs": [],
   "source": [
    "pretrained_model = api.load(\"fasttext-wiki-news-subwords-300\")"
   ]
  },
  {
   "cell_type": "code",
   "execution_count": 48,
   "id": "119d55c2-2b79-4bd9-a974-902d54d679cf",
   "metadata": {},
   "outputs": [],
   "source": [
    "knowledge_base = KnowledgeBase()\n",
    "knowledge_base.load(\"../models/knowledge_base.pkl\")\n",
    "entities = list(knowledge_base.kb)"
   ]
  },
  {
   "cell_type": "code",
   "execution_count": 49,
   "id": "4af48645-a45c-4d95-95cf-34cbd1187463",
   "metadata": {},
   "outputs": [],
   "source": [
    "corpus = list(dataset[\"documents\"].values())\n",
    "\n",
    "model = Word2Vec(vector_size=300, window=10, sample=1e-3, min_count=0, sg=1)\n",
    "model.build_vocab(corpus + entities)\n",
    "total_examples = model.corpus_count\n",
    "model.build_vocab([list(pretrained_model.key_to_index.keys())], update=True)\n",
    "\n",
    "model.train(corpus, total_examples=total_examples, epochs=2)\n",
    "model.save(\"../models/skipgram-entities.model\")"
   ]
  },
  {
   "cell_type": "code",
   "execution_count": 77,
   "id": "7adf1e75-fd79-431d-a09c-690f7282a0f2",
   "metadata": {},
   "outputs": [],
   "source": [
    "def get_leafs_name_expansion(model,heading):\n",
    "    heading_words = heading.split()\n",
    "    try:\n",
    "        most_similar = [word for word, _ in model.wv.most_similar(positive=heading_words, topn=5)]\n",
    "    except KeyError:\n",
    "        most_similar = []\n",
    "\n",
    "    expansion_words = set(heading_words + most_similar)\n",
    "    \n",
    "    vectors = []\n",
    "    for word in expansion_words:\n",
    "        if word in model.wv:\n",
    "            vectors.append(model.wv[word])\n",
    "\n",
    "    #on vérifie qu'il y a bien au moins 1 mot \n",
    "    if vectors:\n",
    "        return np.mean(vectors, axis=0)\n",
    "    else:\n",
    "        return np.zeros(model.vector_size)"
   ]
  },
  {
   "cell_type": "code",
   "execution_count": 78,
   "id": "40b33770-1893-487a-a9e5-acf66892122b",
   "metadata": {},
   "outputs": [],
   "source": [
    "\n",
    "import metrics as metrics\n",
    "import numpy as np\n",
    "from baselines import EmbeddingBaseline\n",
    "\n",
    "\n",
    "class EmbeddingBaselineHNames(EmbeddingBaseline):\n",
    "    def get_query_vector(self, query, expansion=False):\n",
    "        if expansion:\n",
    "            leaf_heading=query[1][2][-1] if query[1][2] else query[1][1] #le premier si y'a RIH le deuxième si y'a R-H\n",
    "            return get_leafs_name_expansion(self.w2v_model, leaf_heading)\n",
    "        else:\n",
    "            return self.vectorize(query[1][0])"
   ]
  },
  {
   "cell_type": "code",
   "execution_count": 81,
   "id": "29c8aed9-879c-4cde-8511-e302f79dd21c",
   "metadata": {},
   "outputs": [],
   "source": [
    "embeddingHnames_baseline =EmbeddingBaselineHNames(dataset,model)"
   ]
  },
  {
   "cell_type": "code",
   "execution_count": 82,
   "id": "e5c011cb-a391-4e22-ab14-a2b29f165aa5",
   "metadata": {},
   "outputs": [],
   "source": [
    "results_embedding = embeddingHnames_baseline.eval_model()"
   ]
  },
  {
   "cell_type": "code",
   "execution_count": 83,
   "id": "d9690e27-03dc-40a6-b925-e1018ac45656",
   "metadata": {},
   "outputs": [
    {
     "name": "stdout",
     "output_type": "stream",
     "text": [
      "Embedding Baseline Results:  {'NDCG': 0.13247611291899686, 'MAP': 0.007755621972831094, 'RPrec': 0.0009433962264150943}\n"
     ]
    }
   ],
   "source": [
    "print(\"Embedding Baseline Results: \", results_embedding)"
   ]
  },
  {
   "cell_type": "code",
   "execution_count": 84,
   "id": "73ba9f4b-415e-4182-ab93-b7b9fc40cdd2",
   "metadata": {},
   "outputs": [],
   "source": [
    "results_embedding_expanded =embeddingHnames_baseline.eval_model(expansion=True)"
   ]
  },
  {
   "cell_type": "code",
   "execution_count": 85,
   "id": "cf5ac212-55a6-4b25-a6e5-072125ab4d9c",
   "metadata": {},
   "outputs": [
    {
     "name": "stdout",
     "output_type": "stream",
     "text": [
      "Embedding Baseline Expanded Results:  {'NDCG': 0.136549742069739, 'MAP': 0.011709342140237286, 'RPrec': 0.0022886093640810618}\n"
     ]
    }
   ],
   "source": [
    "print(\"Embedding Baseline Expanded Results: \", results_embedding_expanded)"
   ]
  },
  {
   "cell_type": "code",
   "execution_count": 89,
   "id": "9770dbb1-46f4-496f-a4fe-a117e84271a7",
   "metadata": {},
   "outputs": [],
   "source": [
    "from expansion2 import get_alias_expansion\n",
    "import metrics as metrics\n",
    "import numpy as np\n",
    "from baselines import EmbeddingBaseline\n",
    "\n",
    "class EmbeddingBaselineAliases(EmbeddingBaseline):\n",
    "    def get_query_vector(self, query, expansion=False):\n",
    "        if expansion:\n",
    "            leaf_heading=query[1][0]  #On prends le root\n",
    "            return get_alias_expansion(self.w2v_model, leaf_heading)\n",
    "        else:\n",
    "            return self.vectorize(query[1][0])"
   ]
  },
  {
   "cell_type": "code",
   "execution_count": 90,
   "id": "e11bacdb-195a-490b-bbd0-cfe2b48dca9e",
   "metadata": {},
   "outputs": [],
   "source": [
    "embeddingaliases_baseline =EmbeddingBaselineAliases(dataset,model)\n"
   ]
  },
  {
   "cell_type": "code",
   "execution_count": 91,
   "id": "4b15bf82-9ff9-4207-84e2-decbfb5e49d9",
   "metadata": {},
   "outputs": [],
   "source": [
    "results_embedding = embeddingaliases_baseline.eval_model()"
   ]
  },
  {
   "cell_type": "code",
   "execution_count": 92,
   "id": "07ad4398-55d4-4e9c-b07c-6895503f98f9",
   "metadata": {},
   "outputs": [
    {
     "name": "stdout",
     "output_type": "stream",
     "text": [
      "Embedding Baseline Results:  {'NDCG': 0.13247611291899686, 'MAP': 0.007755621972831094, 'RPrec': 0.0009433962264150943}\n"
     ]
    }
   ],
   "source": [
    "print(\"Embedding Baseline Results: \", results_embedding)"
   ]
  },
  {
   "cell_type": "code",
   "execution_count": 93,
   "id": "c422414f-0908-4a13-aa6b-edd0949917a7",
   "metadata": {},
   "outputs": [],
   "source": [
    "results_embedding_expanded =embeddingHnames_baseline.eval_model(expansion=True)"
   ]
  },
  {
   "cell_type": "code",
   "execution_count": 94,
   "id": "f41b272e-87b4-43d7-ac7c-fdf808a388fc",
   "metadata": {},
   "outputs": [
    {
     "name": "stdout",
     "output_type": "stream",
     "text": [
      "Embedding Baseline Expanded Results:  {'NDCG': 0.136549742069739, 'MAP': 0.011709342140237286, 'RPrec': 0.0022886093640810618}\n"
     ]
    }
   ],
   "source": [
    "print(\"Embedding Baseline Expanded Results: \", results_embedding_expanded)"
   ]
  },
  {
   "cell_type": "code",
   "execution_count": null,
   "id": "a14172f1-15e5-4c58-9983-cf8008a2fc72",
   "metadata": {},
   "outputs": [],
   "source": []
  }
 ],
 "metadata": {
  "kernelspec": {
   "display_name": "Python 3 (ipykernel)",
   "language": "python",
   "name": "python3"
  },
  "language_info": {
   "codemirror_mode": {
    "name": "ipython",
    "version": 3
   },
   "file_extension": ".py",
   "mimetype": "text/x-python",
   "name": "python",
   "nbconvert_exporter": "python",
   "pygments_lexer": "ipython3",
   "version": "3.11.2"
  }
 },
 "nbformat": 4,
 "nbformat_minor": 5
}
