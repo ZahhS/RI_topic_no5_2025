{
 "cells": [
  {
   "cell_type": "code",
   "execution_count": 1,
   "id": "f6a2066a-04fb-46e5-aad5-85a50c03f606",
   "metadata": {},
   "outputs": [],
   "source": [
    "from gensim.models import Word2Vec\n",
    "from nltk import download, word_tokenize\n",
    "from nltk.corpus import stopwords\n",
    "from nltk.stem import WordNetLemmatizer\n",
    "from sklearn.feature_extraction.text import TfidfVectorizer\n",
    "from nltk.stem import SnowballStemmer\n",
    "\n",
    "\n",
    "import dill as pickle\n",
    "import gensim.downloader as api\n",
    "import joblib\n",
    "import numpy as np\n",
    "import re\n",
    "import sys"
   ]
  },
  {
   "cell_type": "code",
   "execution_count": 2,
   "id": "33bdf0d4-9383-441d-bad9-647990cddcd4",
   "metadata": {},
   "outputs": [],
   "source": [
    "sys.path.append('..')\n",
    "\n",
    "from baselines import EmbeddingBaseline\n",
    "from knowledgebase import KnowledgeBase"
   ]
  },
  {
   "cell_type": "code",
   "execution_count": 3,
   "id": "06352c96-13c8-42a2-99e0-b83f17edc5e5",
   "metadata": {},
   "outputs": [],
   "source": [
    "# Load a derived dataset from the \"TREC CAR 2017\" dataset\n",
    "dataset = {\n",
    "    \"queries\": pickle.load(open(\"queries.pkl\", \"rb\")),\n",
    "    \"documents\": pickle.load(open(\"documents.pkl\", \"rb\")),\n",
    "    \"relevances\": pickle.load(open(\"relevances.pkl\", \"rb\"))\n",
    "}"
   ]
  },
  {
   "cell_type": "code",
   "execution_count": 4,
   "id": "444ae672-7f1e-428f-993d-44326cb8e3a5",
   "metadata": {},
   "outputs": [],
   "source": [
    "def load_entity_qrels(filepath):\n",
    "    qrels = {}\n",
    "    with open(filepath, 'r') as f:\n",
    "        for line in f:\n",
    "            parts = line.strip().split()\n",
    "            if len(parts) != 4:\n",
    "                continue\n",
    "            query_id, _, entity_id, score = parts\n",
    "            qrels.setdefault(query_id, set()).add(entity_id)\n",
    "    return qrels\n"
   ]
  },
  {
   "cell_type": "code",
   "execution_count": 18,
   "id": "46ecc305-a0d7-4111-a0ae-6706ea19012b",
   "metadata": {},
   "outputs": [],
   "source": [
    "toplevel_qrels = load_entity_qrels(\"fold-0-train.pages.cbor-toplevel.entity.qrels\")\n",
    "hierarchical_qrels = load_entity_qrels(\"fold-0-train.pages.cbor-hierarchical.entity.qrels\")\n",
    "article_qrels = load_entity_qrels(\"fold-0-train.pages.cbor-article.entity.qrels\")\n"
   ]
  },
  {
   "cell_type": "code",
   "execution_count": 5,
   "id": "96f7e154-f344-4ae3-a017-a3ba42b422eb",
   "metadata": {},
   "outputs": [],
   "source": [
    "galago_stopwords_file = './galago_418_inquery_stopwords.txt'\n",
    "\n",
    "# Load Galago stopwords into a Python list\n",
    "with open(galago_stopwords_file, 'r') as f:\n",
    "    galago_stopwords = [line.strip() for line in f if line.strip()]"
   ]
  },
  {
   "cell_type": "code",
   "execution_count": 6,
   "id": "34954fe9-07c5-4c32-a2ff-48c323b4b34b",
   "metadata": {},
   "outputs": [
    {
     "name": "stderr",
     "output_type": "stream",
     "text": [
      "[nltk_data] Downloading package punkt to\n",
      "[nltk_data]     /users/Etu0/21410720/nltk_data...\n",
      "[nltk_data]   Package punkt is already up-to-date!\n",
      "[nltk_data] Downloading package stopwords to\n",
      "[nltk_data]     /users/Etu0/21410720/nltk_data...\n",
      "[nltk_data]   Package stopwords is already up-to-date!\n",
      "[nltk_data] Downloading package wordnet to\n",
      "[nltk_data]     /users/Etu0/21410720/nltk_data...\n",
      "[nltk_data]   Package wordnet is already up-to-date!\n"
     ]
    },
    {
     "data": {
      "text/plain": [
       "True"
      ]
     },
     "execution_count": 6,
     "metadata": {},
     "output_type": "execute_result"
    }
   ],
   "source": [
    "# Ressources Installation for NLTK\n",
    "download(\"punkt\")\n",
    "download(\"stopwords\")\n",
    "download(\"wordnet\")"
   ]
  },
  {
   "cell_type": "code",
   "execution_count": 7,
   "id": "bf789b3c-ff98-4f5f-86a3-0e00c7dbe341",
   "metadata": {},
   "outputs": [],
   "source": [
    "#Le nouveau PreProcess \n",
    "english_stopwords= galago_stopwords\n",
    "stemmer = SnowballStemmer(\"english\")\n",
    "\n",
    "def preprocess(text):\n",
    "    text = re.sub(r\"[^a-zA-Z]\", \" \", text.lower())\n",
    "    words = word_tokenize(text)\n",
    "    words_stemmed = [stemmer.stem(w) for w in words if w not in english_stopwords]\n",
    "    return words_stemmed"
   ]
  },
  {
   "cell_type": "code",
   "execution_count": 8,
   "id": "865ccf66-26b3-4fac-a581-75b82fbd1c6a",
   "metadata": {},
   "outputs": [
    {
     "name": "stderr",
     "output_type": "stream",
     "text": [
      "/usr/local/lib/python3.11/dist-packages/sklearn/feature_extraction/text.py:525: UserWarning: The parameter 'token_pattern' will not be used since 'tokenizer' is not None'\n",
      "  warnings.warn(\n",
      "/usr/local/lib/python3.11/dist-packages/sklearn/feature_extraction/text.py:408: UserWarning: Your stop_words may be inconsistent with your preprocessing. Tokenizing the stop words generated tokens ['doesn', 't'] not in stop_words.\n",
      "  warnings.warn(\n"
     ]
    }
   ],
   "source": [
    "# Create the TF-IDF Vectorizer\n",
    "vectorizer = TfidfVectorizer(tokenizer=preprocess, stop_words=english_stopwords)\n",
    "\n",
    "# Train the TFIDF-Vectorizer on the corpus\n",
    "def generate_docs_texts():\n",
    "    for text in dataset[\"documents\"].values():\n",
    "        yield text\n",
    "\n",
    "documents_vectors = vectorizer.fit_transform(generate_docs_texts())\n",
    "documents_vectors = documents_vectors.toarray()"
   ]
  },
  {
   "cell_type": "code",
   "execution_count": 9,
   "id": "b61d7594-87c3-42e2-8fa6-0778ae70bb35",
   "metadata": {},
   "outputs": [
    {
     "name": "stdout",
     "output_type": "stream",
     "text": [
      "47 requêtes n'ont aucun document pertinent.\n",
      "477\n"
     ]
    }
   ],
   "source": [
    "qrels = dataset[\"relevances\"]\n",
    "queries = dataset[\"queries\"]\n",
    "\n",
    "zero_relevance_queries = [\n",
    "    qid for qid in queries\n",
    "    if not any(qid == rel_qid for (rel_qid, _) in qrels)\n",
    "]\n",
    "\n",
    "print(f\"{len(zero_relevance_queries)} requêtes n'ont aucun document pertinent.\")\n",
    "print(len(queries))"
   ]
  },
  {
   "cell_type": "code",
   "execution_count": 10,
   "id": "b0de872e-4a11-41c3-ad7d-5ebb9d37529e",
   "metadata": {},
   "outputs": [],
   "source": [
    "pretrained_model = api.load(\"fasttext-wiki-news-subwords-300\")"
   ]
  },
  {
   "cell_type": "code",
   "execution_count": 11,
   "id": "119d55c2-2b79-4bd9-a974-902d54d679cf",
   "metadata": {},
   "outputs": [],
   "source": [
    "knowledge_base = KnowledgeBase()\n",
    "knowledge_base.load(\"../models/knowledge_base.pkl\")\n",
    "entities = list(knowledge_base.kb)"
   ]
  },
  {
   "cell_type": "code",
   "execution_count": 12,
   "id": "4af48645-a45c-4d95-95cf-34cbd1187463",
   "metadata": {},
   "outputs": [],
   "source": [
    "corpus = list(dataset[\"documents\"].values())\n",
    "\n",
    "model = Word2Vec(vector_size=300, window=10, sample=1e-3, min_count=0, sg=1)\n",
    "model.build_vocab(corpus + entities)\n",
    "total_examples = model.corpus_count\n",
    "model.build_vocab([list(pretrained_model.key_to_index.keys())], update=True)\n",
    "\n",
    "model.train(corpus, total_examples=total_examples, epochs=2)\n",
    "model.save(\"../models/skipgram-entities.model\")"
   ]
  },
  {
   "cell_type": "code",
   "execution_count": 14,
   "id": "7adf1e75-fd79-431d-a09c-690f7282a0f2",
   "metadata": {},
   "outputs": [],
   "source": [
    "def get_h_names_expansion(model,query_id, article_qrels):\n",
    "    entities = article_qrels.get(query_id, [])\n",
    "    vectors = []\n",
    "    for eid in entities:\n",
    "        tokens = eid.replace(\"enwiki:\", \"\").replace(\"_\", \" \").split()\n",
    "        for token in tokens:\n",
    "            if token in model.wv:\n",
    "                vectors.append(model.wv[token])\n",
    "    if vectors:\n",
    "        return np.mean(vectors, axis=0)\n",
    "    return np.zeros(model.vector_size)"
   ]
  },
  {
   "cell_type": "code",
   "execution_count": 15,
   "id": "40b33770-1893-487a-a9e5-acf66892122b",
   "metadata": {},
   "outputs": [],
   "source": [
    "\n",
    "import metrics as metrics\n",
    "import numpy as np\n",
    "from baselines import EmbeddingBaseline\n",
    "\n",
    "\n",
    "class EmbeddingBaselineHNames(EmbeddingBaseline):\n",
    "    def __init__(self, dataset, w2v_model, article_qrels):\n",
    "            super().__init__(dataset, w2v_model)\n",
    "            self.article_qrels = article_qrels\n",
    "\n",
    "    def get_query_vector(self, query, expansion=False):\n",
    "        if expansion:\n",
    "            query_id = query[0]  # exemple : \"enwiki:Allergy/Signs%20and%20symptoms\"\n",
    "            return get_h_names_expansion(self.w2v_model, query_id, self.article_qrels)\n",
    "        else:\n",
    "            return self.vectorize(query[1][0])\n"
   ]
  },
  {
   "cell_type": "code",
   "execution_count": 19,
   "id": "29c8aed9-879c-4cde-8511-e302f79dd21c",
   "metadata": {},
   "outputs": [],
   "source": [
    "embeddingHnames_baseline = EmbeddingBaselineHNames(dataset, model, article_qrels)\n"
   ]
  },
  {
   "cell_type": "code",
   "execution_count": 20,
   "id": "e5c011cb-a391-4e22-ab14-a2b29f165aa5",
   "metadata": {},
   "outputs": [],
   "source": [
    "results_embedding = embeddingHnames_baseline.eval_model()"
   ]
  },
  {
   "cell_type": "code",
   "execution_count": 21,
   "id": "d9690e27-03dc-40a6-b925-e1018ac45656",
   "metadata": {},
   "outputs": [
    {
     "name": "stdout",
     "output_type": "stream",
     "text": [
      "Embedding Baseline Results:  {'NDCG': 0.13279297451249622, 'MAP': 0.007712892408018277, 'RPrec': 0.0009433962264150943}\n"
     ]
    }
   ],
   "source": [
    "print(\"Embedding Baseline Results: \", results_embedding)"
   ]
  },
  {
   "cell_type": "code",
   "execution_count": 24,
   "id": "73ba9f4b-415e-4182-ab93-b7b9fc40cdd2",
   "metadata": {},
   "outputs": [],
   "source": [
    "results_embedding_expanded =embeddingHnames_baseline.eval_model(expansion=True)"
   ]
  },
  {
   "cell_type": "code",
   "execution_count": 25,
   "id": "cf5ac212-55a6-4b25-a6e5-072125ab4d9c",
   "metadata": {},
   "outputs": [
    {
     "name": "stdout",
     "output_type": "stream",
     "text": [
      "Embedding Baseline Expanded Results:  {'NDCG': 0.1289461152791479, 'MAP': 0.007139238354286149, 'RPrec': 0.000817520471608522}\n"
     ]
    }
   ],
   "source": [
    "print(\"Embedding Baseline Expanded Results: \", results_embedding_expanded)"
   ]
  },
  {
   "cell_type": "code",
   "execution_count": 26,
   "id": "7901d308-7985-46da-9d59-4543dc117c2d",
   "metadata": {},
   "outputs": [],
   "source": [
    "def get_r_aliases_embed(model, query_id, toplevel_qrels):\n",
    "    entities = toplevel_qrels.get(query_id, [])\n",
    "    vectors = []\n",
    "    for eid in entities:\n",
    "        tokens = eid.replace(\"enwiki:\", \"\").replace(\"_\", \" \").split()\n",
    "        for token in tokens:\n",
    "            if token in model.wv:\n",
    "                vectors.append(model.wv[token])\n",
    "    if vectors:\n",
    "        return np.mean(vectors, axis=0)\n",
    "    return np.zeros(model.vector_size)"
   ]
  },
  {
   "cell_type": "code",
   "execution_count": 27,
   "id": "9770dbb1-46f4-496f-a4fe-a117e84271a7",
   "metadata": {},
   "outputs": [],
   "source": [
    "# from expansion2 import get_alias_expansion\n",
    "import metrics as metrics\n",
    "import numpy as np\n",
    "from baselines import EmbeddingBaseline\n",
    "\n",
    "class EmbeddingBaselineAliases(EmbeddingBaseline):\n",
    "    def __init__(self, dataset, w2v_model, toplevel_qrels):\n",
    "        super().__init__(dataset, w2v_model)\n",
    "        self.toplevel_qrels = toplevel_qrels\n",
    "\n",
    "    def get_query_vector(self, query, expansion=False):\n",
    "        if expansion:\n",
    "            query_id = query[0]\n",
    "            return get_r_aliases_embed(self.w2v_model, query_id, self.toplevel_qrels)\n",
    "        else:\n",
    "            return self.vectorize(query[1][0])\n"
   ]
  },
  {
   "cell_type": "code",
   "execution_count": 30,
   "id": "e11bacdb-195a-490b-bbd0-cfe2b48dca9e",
   "metadata": {},
   "outputs": [],
   "source": [
    "embeddingaliases_baseline = EmbeddingBaselineAliases(dataset, model, toplevel_qrels)\n"
   ]
  },
  {
   "cell_type": "code",
   "execution_count": 36,
   "id": "4b15bf82-9ff9-4207-84e2-decbfb5e49d9",
   "metadata": {},
   "outputs": [],
   "source": [
    "results_embedding = embeddingaliases_baseline.eval_model()"
   ]
  },
  {
   "cell_type": "code",
   "execution_count": 37,
   "id": "07ad4398-55d4-4e9c-b07c-6895503f98f9",
   "metadata": {},
   "outputs": [
    {
     "name": "stdout",
     "output_type": "stream",
     "text": [
      "Embedding Baseline Results:  {'NDCG': 0.13279297451249622, 'MAP': 0.007712892408018277, 'RPrec': 0.0009433962264150943}\n"
     ]
    }
   ],
   "source": [
    "print(\"Embedding Baseline Results: \", results_embedding)"
   ]
  },
  {
   "cell_type": "code",
   "execution_count": 38,
   "id": "c422414f-0908-4a13-aa6b-edd0949917a7",
   "metadata": {},
   "outputs": [],
   "source": [
    "results_embedding_expanded = embeddingaliases_baseline.eval_model(expansion=True)"
   ]
  },
  {
   "cell_type": "code",
   "execution_count": 39,
   "id": "f41b272e-87b4-43d7-ac7c-fdf808a388fc",
   "metadata": {},
   "outputs": [
    {
     "name": "stdout",
     "output_type": "stream",
     "text": [
      "Embedding Baseline Expanded Results:  {'NDCG': 0.13052761537064678, 'MAP': 0.008085219497893611, 'RPrec': 0.001632801161103048}\n"
     ]
    }
   ],
   "source": [
    "print(\"Embedding Baseline Expanded Results: \", results_embedding_expanded)"
   ]
  },
  {
   "cell_type": "code",
   "execution_count": 51,
   "id": "5eda13d0-3c77-4984-9f8c-9516bb8a6a15",
   "metadata": {},
   "outputs": [],
   "source": [
    "def get_ih_ids_embed(model, query_id, hierarchical_qrels):\n",
    "    entities = hierarchical_qrels.get(query_id, [])\n",
    "    vectors = []\n",
    "    for eid in entities:\n",
    "        entity_token = eid.replace(\"enwiki:\", \"\").replace(\" \", \"_\") + \".id\"\n",
    "        if entity_token in model.wv:\n",
    "            vectors.append(model.wv[entity_token])\n",
    "    if vectors:\n",
    "        return np.mean(vectors, axis=0)\n",
    "    return np.zeros(model.vector_size)"
   ]
  },
  {
   "cell_type": "code",
   "execution_count": 81,
   "id": "631f630a-17ff-4112-b72a-699900f75b7b",
   "metadata": {},
   "outputs": [],
   "source": [
    "class RIH_IDs_Embedding(object):\n",
    "    def __init__(self, dataset, model, hierarchical_qrels):\n",
    "        self.dataset = dataset\n",
    "        self.model = model\n",
    "        self.hierarchical_qrels = hierarchical_qrels\n",
    "\n",
    "        # Pré-calcul des embeddings des documents\n",
    "        self.document_embeddings = np.array([\n",
    "            self.vectorize(doc) for doc in dataset[\"documents\"].values()\n",
    "        ])\n",
    "        self.documents_ids = list(dataset[\"documents\"].keys())\n",
    "\n",
    "    def vectorize(self, text):\n",
    "        embedding = np.zeros(self.model.vector_size)\n",
    "        count = 0\n",
    "        for word in text.split():\n",
    "            if word in self.model.wv:\n",
    "                embedding += self.model.wv[word]\n",
    "                count += 1\n",
    "        return embedding / count if count > 0 else embedding\n",
    "\n",
    "    def get_query_vector(self, query,expansion=False):\n",
    "        if expansion:\n",
    "            query_id = query[0]\n",
    "            return get_ih_ids_embed(self.model, query_id, self.hierarchical_qrels)\n",
    "        else:\n",
    "            # Prendre le premier élément du tuple query[1], qui est le texte\n",
    "            return self.vectorize(query[1][0])\n",
    "        \n",
    "    def cosine_similarities(self, query_vec):\n",
    "        dot_products = self.document_embeddings @ query_vec.reshape(-1, 1)\n",
    "        norm_query = np.linalg.norm(query_vec)\n",
    "        norms_docs = np.linalg.norm(self.document_embeddings, axis=1)\n",
    "        cosine_scores = dot_products.flatten() / (norm_query * norms_docs + 1e-12)\n",
    "        return cosine_scores\n",
    "\n",
    "    def get_top_k(self, query, k=1000, expansion=False):\n",
    "        q_vec = self.get_query_vector(query, expansion)\n",
    "        scores = self.cosine_similarities(q_vec)\n",
    "        top_k_idx = np.argsort(scores)[::-1][:k]\n",
    "        top_k_docs = [self.documents_ids[i] for i in top_k_idx]\n",
    "        top_k_scores = scores[top_k_idx]\n",
    "        return top_k_docs, top_k_scores\n",
    "\n",
    "    def eval_query(self, query, k=100, expansion=False):\n",
    "        scores = {\n",
    "            \"NDCG\": metrics.NDCG,\n",
    "            \"MAP\": metrics.AP,\n",
    "            \"RPrec\": metrics.RPrec\n",
    "        }\n",
    "        results = {}\n",
    "        # On passe query complet à get_top_k, pas le vecteur\n",
    "        docs, _ = self.get_top_k(query, k, expansion=expansion)\n",
    "        for metric_name, metric_callback in scores.items():\n",
    "            results[metric_name] = metric_callback(query[0], docs, self.dataset[\"relevances\"])\n",
    "        return results\n",
    "\n",
    "\n",
    "    def eval_model(self, k=1000,expansion=False):\n",
    "\n",
    "        results = {\n",
    "            \"NDCG\": [],\n",
    "            \"MAP\": [],\n",
    "            \"RPrec\": []\n",
    "        }\n",
    "        for query in self.dataset[\"queries\"].items():\n",
    "            query_results = self.eval_query(query, k,expansion)\n",
    "            for metric_name, metric_value in query_results.items():\n",
    "                results[metric_name].append(metric_value)\n",
    "        results = {metric: np.mean(values) for metric, values in results.items()}\n",
    "        return results\n"
   ]
  },
  {
   "cell_type": "code",
   "execution_count": 82,
   "id": "9971fefe-cfa6-40da-b479-31b01e1e2c18",
   "metadata": {},
   "outputs": [],
   "source": [
    "rih_ids_model = RIH_IDs_Embedding(dataset, model, hierarchical_qrels)"
   ]
  },
  {
   "cell_type": "code",
   "execution_count": 85,
   "id": "272b07a3-0579-4b01-bab6-9fc04812f1f6",
   "metadata": {},
   "outputs": [
    {
     "name": "stdout",
     "output_type": "stream",
     "text": [
      "{'NDCG': 0.1289461152791479, 'MAP': 0.007139238354286149, 'RPrec': 0.000817520471608522}\n"
     ]
    }
   ],
   "source": [
    "results_rih_ids = rih_ids_model.eval_model()\n",
    "print(results_ih_ids)"
   ]
  },
  {
   "cell_type": "code",
   "execution_count": 86,
   "id": "b1c81b38-1b51-4d43-990d-d0605a54abd8",
   "metadata": {},
   "outputs": [
    {
     "name": "stdout",
     "output_type": "stream",
     "text": [
      "{'NDCG': 0.1289461152791479, 'MAP': 0.007139238354286149, 'RPrec': 0.000817520471608522}\n"
     ]
    }
   ],
   "source": [
    "results_rih_ids = rih_ids_model.eval_model(expansion=True)\n",
    "print(results_ih_ids)"
   ]
  }
 ],
 "metadata": {
  "kernelspec": {
   "display_name": "Python 3 (ipykernel)",
   "language": "python",
   "name": "python3"
  },
  "language_info": {
   "codemirror_mode": {
    "name": "ipython",
    "version": 3
   },
   "file_extension": ".py",
   "mimetype": "text/x-python",
   "name": "python",
   "nbconvert_exporter": "python",
   "pygments_lexer": "ipython3",
   "version": "3.11.2"
  }
 },
 "nbformat": 4,
 "nbformat_minor": 5
}
