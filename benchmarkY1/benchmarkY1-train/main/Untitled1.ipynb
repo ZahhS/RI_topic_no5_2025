{
 "cells": [
  {
   "cell_type": "code",
   "execution_count": 1,
   "id": "ee5be86d-330e-482e-88f4-c6adfa2d8c55",
   "metadata": {},
   "outputs": [
    {
     "name": "stdout",
     "output_type": "stream",
     "text": [
      "Defaulting to user installation because normal site-packages is not writeable\n",
      "Requirement already satisfied: dill in /users/Etu0/21410720/.local/lib/python3.11/site-packages (0.4.0)\n",
      "Note: you may need to restart the kernel to use updated packages.\n"
     ]
    }
   ],
   "source": [
    "pip install dill"
   ]
  },
  {
   "cell_type": "code",
   "execution_count": 1,
   "id": "df090d9a-20df-4554-93c5-073d13a204f1",
   "metadata": {},
   "outputs": [],
   "source": [
    "from gensim.models import Word2Vec\n",
    "from nltk import download, word_tokenize\n",
    "from nltk.corpus import stopwords\n",
    "from nltk.stem import WordNetLemmatizer\n",
    "from sklearn.feature_extraction.text import TfidfVectorizer\n",
    "\n",
    "import dill as pickle\n",
    "import gensim.downloader as api\n",
    "import joblib\n",
    "import numpy as np\n",
    "import re\n",
    "import sys"
   ]
  },
  {
   "cell_type": "code",
   "execution_count": 2,
   "id": "5f06c833-4ca4-4b69-b65a-1221534536ed",
   "metadata": {},
   "outputs": [],
   "source": [
    "sys.path.append('..')\n",
    "\n",
    "from baselines import RIH_Cosine, EmbeddingBaseline\n",
    "from knowledgebase import KnowledgeBase"
   ]
  },
  {
   "cell_type": "code",
   "execution_count": 3,
   "id": "4756499c-2d02-4ccc-8371-0d5c6be49a50",
   "metadata": {},
   "outputs": [],
   "source": [
    "# Load a derived dataset from the \"TREC CAR 2017\" dataset\n",
    "dataset = {\n",
    "    \"queries\": pickle.load(open(\"queries.pkl\", \"rb\")),\n",
    "    \"documents\": pickle.load(open(\"documents.pkl\", \"rb\")),\n",
    "    \"relevances\": pickle.load(open(\"relevances.pkl\", \"rb\"))\n",
    "}"
   ]
  },
  {
   "cell_type": "code",
   "execution_count": 4,
   "id": "64179dea-e003-41fe-b741-73927d6bcda4",
   "metadata": {},
   "outputs": [
    {
     "name": "stderr",
     "output_type": "stream",
     "text": [
      "[nltk_data] Downloading package punkt to\n",
      "[nltk_data]     /users/Etu0/21410720/nltk_data...\n",
      "[nltk_data]   Package punkt is already up-to-date!\n",
      "[nltk_data] Downloading package stopwords to\n",
      "[nltk_data]     /users/Etu0/21410720/nltk_data...\n",
      "[nltk_data]   Package stopwords is already up-to-date!\n",
      "[nltk_data] Downloading package wordnet to\n",
      "[nltk_data]     /users/Etu0/21410720/nltk_data...\n",
      "[nltk_data]   Package wordnet is already up-to-date!\n"
     ]
    },
    {
     "data": {
      "text/plain": [
       "True"
      ]
     },
     "execution_count": 4,
     "metadata": {},
     "output_type": "execute_result"
    }
   ],
   "source": [
    "# Ressources Installation for NLTK\n",
    "download(\"punkt\")\n",
    "download(\"stopwords\")\n",
    "download(\"wordnet\")"
   ]
  },
  {
   "cell_type": "code",
   "execution_count": 5,
   "id": "ad3e2d9b-9bca-46ee-bdc7-d4c1f8e87fd4",
   "metadata": {},
   "outputs": [],
   "source": [
    "english_stopwords = stopwords.words(\"english\")\n",
    "\n",
    "def preprocess(text):\n",
    "    text = re.sub(r\"[^a-zA-Z]\", \" \", text.lower())\n",
    "    words = word_tokenize(text)\n",
    "    words_lemmed = [WordNetLemmatizer().lemmatize(w) for w in words if w not in english_stopwords]\n",
    "    return words_lemmed"
   ]
  },
  {
   "cell_type": "code",
   "execution_count": 6,
   "id": "5282f99a-18d3-4ec8-ac90-275ed58be598",
   "metadata": {},
   "outputs": [
    {
     "name": "stderr",
     "output_type": "stream",
     "text": [
      "/usr/local/lib/python3.11/dist-packages/sklearn/feature_extraction/text.py:525: UserWarning: The parameter 'token_pattern' will not be used since 'tokenizer' is not None'\n",
      "  warnings.warn(\n"
     ]
    }
   ],
   "source": [
    "# Create the TF-IDF Vectorizer\n",
    "vectorizer = TfidfVectorizer(tokenizer=preprocess, stop_words=english_stopwords)\n",
    "\n",
    "# Train the TFIDF-Vectorizer on the corpus\n",
    "def generate_docs_texts():\n",
    "    for text in dataset[\"documents\"].values():\n",
    "        yield text\n",
    "\n",
    "documents_vectors = vectorizer.fit_transform(generate_docs_texts())\n",
    "documents_vectors = documents_vectors.toarray()"
   ]
  },
  {
   "cell_type": "code",
   "execution_count": 7,
   "id": "2ce378f3-032d-4867-b81a-f319dc5b10f0",
   "metadata": {},
   "outputs": [
    {
     "name": "stdout",
     "output_type": "stream",
     "text": [
      "200 requêtes n'ont aucun document pertinent.\n",
      "1975\n"
     ]
    }
   ],
   "source": [
    "qrels = dataset[\"relevances\"]\n",
    "queries = dataset[\"queries\"]\n",
    "\n",
    "zero_relevance_queries = [\n",
    "    qid for qid in queries\n",
    "    if not any(qid == rel_qid for (rel_qid, _) in qrels)\n",
    "]\n",
    "\n",
    "print(f\"{len(zero_relevance_queries)} requêtes n'ont aucun document pertinent.\")\n",
    "print(len(queries))\n"
   ]
  },
  {
   "cell_type": "code",
   "execution_count": 8,
   "id": "c72bfd9a-be35-467e-a723-c0034fb23c18",
   "metadata": {},
   "outputs": [
    {
     "name": "stdout",
     "output_type": "stream",
     "text": [
      "1937 requêtes ont au moins un document pertinent\n"
     ]
    }
   ],
   "source": [
    "relevances = pickle.load(open(\"relevances.pkl\", \"rb\"))\n",
    "\n",
    "covered_queries = set(qid for (qid, _) in relevances)\n",
    "print(f\"{len(covered_queries)} requêtes ont au moins un document pertinent\")\n"
   ]
  },
  {
   "cell_type": "code",
   "execution_count": 9,
   "id": "6152169f-61c1-46a6-b00e-a9bae3960470",
   "metadata": {},
   "outputs": [],
   "source": [
    "rih_cosine = RIH_Cosine(dataset, vectorizer)\n",
    "results_cosine = rih_cosine.eval_model()"
   ]
  },
  {
   "cell_type": "code",
   "execution_count": 10,
   "id": "d36c4244-7739-469a-b7d4-f96c6442652b",
   "metadata": {},
   "outputs": [
    {
     "name": "stdout",
     "output_type": "stream",
     "text": [
      "RIH Cosine Results:  {'NDCG': 0.2514339637467721, 'MAP': 0.08799401892603141, 'RPrec': 0.04304883442858126}\n"
     ]
    }
   ],
   "source": [
    "print(\"RIH Cosine Results: \", results_cosine)"
   ]
  }
 ],
 "metadata": {
  "kernelspec": {
   "display_name": "Python 3 (ipykernel)",
   "language": "python",
   "name": "python3"
  },
  "language_info": {
   "codemirror_mode": {
    "name": "ipython",
    "version": 3
   },
   "file_extension": ".py",
   "mimetype": "text/x-python",
   "name": "python",
   "nbconvert_exporter": "python",
   "pygments_lexer": "ipython3",
   "version": "3.11.2"
  }
 },
 "nbformat": 4,
 "nbformat_minor": 5
}
